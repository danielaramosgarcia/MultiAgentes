{
  "cells": [
    {
      "cell_type": "code",
      "execution_count": 13,
      "metadata": {
        "id": "mcEaWSw710nh"
      },
      "outputs": [],
      "source": [
        "#All neccesary imports:\n",
        "import agentpy as ap\n",
        "import numpy as np\n",
        "import random"
      ]
    },
    {
      "cell_type": "markdown",
      "metadata": {
        "id": "FmwqBemk2nwm"
      },
      "source": [
        "### Internal State\n",
        "Here I created a Class for the Internal States, you can use a dictionary or even a list."
      ]
    },
    {
      "cell_type": "code",
      "execution_count": 14,
      "metadata": {
        "id": "zz2wI28u130A"
      },
      "outputs": [],
      "source": [
        "class InternalState():\n",
        "    def __init__(self,initPos):\n",
        "        self.dirt = False   #Belief: Is it dirty on my position?\n",
        "        self.x = initPos[0] #Belief: agent position X (as Belief)\n",
        "        self.y = initPos[1] #Belief: agent position Y (as Belief)\n",
        "        self.limx = -1      #Belief: world limit X\n",
        "        self.limy = -1      #Belief: world limit Y\n",
        "        self.dir = 0        #Belief: current Direction\n",
        "        #Here the direction is a number from 0 to 3, meanning from North to West (ClockWise)"
      ]
    },
    {
      "cell_type": "markdown",
      "metadata": {
        "id": "z4ExKr-X2_vL"
      },
      "source": [
        "### Grid (The World)\n",
        "\n",
        "Here I created my own grid environment for the purpose of the simulation. If you need a grid environment you can create your own or you can use the AgentPy Grid (ap.Grid())."
      ]
    },
    {
      "cell_type": "code",
      "execution_count": 15,
      "metadata": {
        "id": "cJNnzO5W17DR"
      },
      "outputs": [],
      "source": [
        "class Grid():\n",
        "    def __init__(self,size,dirties):\n",
        "        self.map = []                   #Define a squared map as a list\n",
        "        self.size = size                #Define the size of the grid\n",
        "        self.length = size[0]*size[1]   #Define the amount of spaces on the grid\n",
        "        self.dirties = dirties          #Define the amount of dirty spaces\n",
        "        self.build()                    #Fill the Grid (randomly) with the defined amount of dirty spaces\n",
        "\n",
        "    def isDirty(self,x,y):              #Is the space X, Y dirty?\n",
        "        return self.map[y][x] == 1\n",
        "\n",
        "    def clean(self,x,y):          #Convert the space X, Y to a clean space\n",
        "        self.map[y][x] = 0\n",
        "        self.dirties-=1           #Reduce the number of dirty spaces\n",
        "\n",
        "    def build(self):                #To build the Grid\n",
        "        d = 0\n",
        "        places = []\n",
        "        for _ in range(self.length):\n",
        "            if d <= self.dirties:\n",
        "                places.append(1)\n",
        "                d+=1\n",
        "            else:\n",
        "                places.append(0)\n",
        "        random.shuffle(places)\n",
        "        k = 0\n",
        "        for j in range(self.size[1]):\n",
        "            self.map.append([])\n",
        "            for i in range(self.size[0]):\n",
        "                self.map[j].append(places[k])\n",
        "                k+=1\n",
        "        self.printMap()\n",
        "\n",
        "    def printMap(self):                         #Here you can print the grid as 0's and 1's ('1' means dirty)\n",
        "        s = ''\n",
        "        for j in range(self.size[1]):\n",
        "            for i in range(self.size[0]):\n",
        "                s += str(self.map[j][i])+','\n",
        "            s+='\\n'\n",
        "        print(s)\n",
        "\n",
        "    def utility(self):          #Calculate the utility\n",
        "        return 1 - (self.dirties/self.length)   #Complement of: Number of dirty spaces by the total of spaces\n"
      ]
    },
    {
      "cell_type": "markdown",
      "metadata": {
        "id": "Eqod4cXQ5BvA"
      },
      "source": [
        "### The Agent\n",
        "\n",
        "Now I declared my VaccumAgent. This agent moves randomly. If its space is dirty it will clean it and move to another space. The agent cannot move beyond the limits of the Grid."
      ]
    },
    {
      "cell_type": "code",
      "execution_count": 16,
      "metadata": {
        "id": "rpGK2HWW2L6q"
      },
      "outputs": [],
      "source": [
        "class VaccumAgent(ap.Agent):\n",
        "\n",
        "    \"\"\" An agent that cleans the floor \"\"\"\n",
        "\n",
        "#------------------------------------------------------------------------\n",
        "#The agents main methods: setup, step (optional), update (optional) and end (optional)\n",
        "\n",
        "    def setup(self):\n",
        "        initPos = (0,0)     #Initial position of the agent\n",
        "        self.i = InternalState(initPos) #Adds the Internal States\n",
        "\n",
        "    #Here I added a step() function for better organization and readability, but it is not necessary\n",
        "    def step(self):                     #The whole action() funtion\n",
        "        p = self.see(self.model.world)\n",
        "        self.next(p)\n",
        "        self.action()\n",
        "\n",
        "    #I also added the update function for the same purpose. Of course I don't even use it\n",
        "    def update(self):\n",
        "        pass\n",
        "\n",
        "    #Same as before\n",
        "    def end(self):\n",
        "        pass\n",
        "\n",
        "#-------------------------------------------------------------------\n",
        "#The agent's complementary methods:\n",
        "\n",
        "    #The see() function\n",
        "    def see(self,e):\n",
        "        p = e.isDirty(self.i.x,self.i.y) #The percept is just if the agent see's the space dirty or not.\n",
        "        return p\n",
        "\n",
        "    #The next() function\n",
        "    def next(self, p):\n",
        "        self.i.dirt = p     #I update my Internal States using my Percepts\n",
        "        #Of course, the only part that matters here from my Internal State is if the space is dirty or not.\n",
        "\n",
        "    #My action() function\n",
        "    def action(self):\n",
        "        if self.i.dirt:     #If it's dirty, then clean the floor\n",
        "            self.model.world.clean(self.i.x,self.i.y)\n",
        "        self.move()         #Then move\n",
        "\n",
        "    #How does the agent move?\n",
        "    def move(self):\n",
        "        if random.randint(0,1) == 1:    #random decision to right-turn or not\n",
        "            self.i.dir = (self.i.dir+1)%4   #Then turn to the right\n",
        "        #Next, it will move to that direction, only if it is not beyond the limit:\n",
        "        if self.i.dir == 0 and self.i.y-1>=0:\n",
        "            self.i.y-=1\n",
        "        elif self.i.dir == 1 and self.i.x+1<self.i.limx:\n",
        "            self.i.x+=1\n",
        "        elif self.i.dir == 2 and self.i.y+1<self.i.limy:\n",
        "            self.i.y+=1\n",
        "        if self.i.dir == 3 and self.i.x-1>=0:\n",
        "            self.i.x-=1"
      ]
    },
    {
      "cell_type": "markdown",
      "metadata": {
        "id": "9MJEokCG7yp8"
      },
      "source": [
        "### The Model\n",
        "\n",
        "Here I defined my VaccumModel. I am recording an utility based on the amount of dirty spaces over time."
      ]
    },
    {
      "cell_type": "code",
      "execution_count": 17,
      "metadata": {
        "id": "Feu175Id2ASW"
      },
      "outputs": [],
      "source": [
        "class VaccumModel(ap.Model):\n",
        "\n",
        "    \"\"\" A simple model of random wealth transfers \"\"\"\n",
        "\n",
        "#------------------------------------------------------------------------\n",
        "#The model's main methods: setup, step, update and end\n",
        "\n",
        "    #Initialization:\n",
        "    def setup(self):\n",
        "        self.steps = 0  #current steps\n",
        "        self.optimalSteps = self.steps #Steps of higher utility\n",
        "        self.foundOptimal = False\n",
        "        self.world = Grid((10,10),10)   #Create grid world\n",
        "        self.agents = ap.AgentList(self, self.p.agents, VaccumAgent)    #Create agents\n",
        "        for agent in self.agents:   #add world limits to the agent's beliefs\n",
        "            agent.i.limx = self.world.size[0]\n",
        "            agent.i.limy = self.world.size[1]\n",
        "\n",
        "    #For each step of the simulation...\n",
        "    def step(self):\n",
        "        self.agents.step()  #Do the agent's step\n",
        "        self.steps += 1     #Increase the amount of steps\n",
        "\n",
        "    #At the end of each step...\n",
        "    def update(self):\n",
        "        u = self.model.world.utility()      #Calculate the utility\n",
        "        self.record('Utility Over time', u) #Record utility into a log named \"Utility Over time\"\n",
        "        if u >= 1 and not self.foundOptimal:    #If it is the maximum utility then:\n",
        "            self.optimalSteps = self.steps      #Store the number of steps\n",
        "            self.foundOptimal = True\n",
        "\n",
        "    #At the end of the simulation...\n",
        "    def end(self):\n",
        "        self.agents.record(\"optimal steps\",self.optimalSteps)   #Record the Optimal number of Steps\n",
        "        #That is, when the utlitiy reached the maximum"
      ]
    },
    {
      "cell_type": "markdown",
      "metadata": {
        "id": "qDC3Y85Q-RgA"
      },
      "source": [
        "### Run the simulation\n",
        "Now that we have all needed classes. I defined my parameters. In this case only 1 agent is needed (you can experiment on this simulation and add more)."
      ]
    },
    {
      "cell_type": "code",
      "execution_count": 18,
      "metadata": {
        "colab": {
          "base_uri": "https://localhost:8080/",
          "height": 0
        },
        "id": "NKeKXwrU-RA9",
        "outputId": "76442bdd-a238-451c-fead-601ad15c1306"
      },
      "outputs": [
        {
          "name": "stdout",
          "output_type": "stream",
          "text": [
            "0,0,0,0,1,0,0,0,0,0,\n",
            "0,0,0,0,1,0,0,1,0,1,\n",
            "0,0,0,0,0,0,0,0,0,0,\n",
            "0,1,0,0,0,0,0,0,0,0,\n",
            "0,0,0,0,1,0,0,0,0,0,\n",
            "0,0,0,1,0,0,0,0,0,0,\n",
            "0,0,0,0,0,0,0,0,0,0,\n",
            "0,0,0,1,0,0,0,0,0,1,\n",
            "0,0,0,0,0,1,0,1,0,0,\n",
            "0,0,0,0,0,0,0,0,0,0,\n",
            "\n",
            "Completed: 1000 steps\n",
            "Run time: 0:00:00.014251\n",
            "Simulation finished\n"
          ]
        }
      ],
      "source": [
        "#Parameters definition\n",
        "parameters = {\n",
        "    'agents': 1,\n",
        "    'steps': 1000,\n",
        "    'seed': 71,\n",
        "}\n",
        "\n",
        "#Create Model Objetc\n",
        "model = VaccumModel(parameters)\n",
        "#Run the model (simulation)\n",
        "results = model.run()"
      ]
    },
    {
      "cell_type": "markdown",
      "metadata": {
        "id": "wFspWLic-w-Z"
      },
      "source": [
        "We can now plot the utility from the records:"
      ]
    },
    {
      "cell_type": "code",
      "execution_count": 23,
      "metadata": {},
      "outputs": [
        {
          "data": {
            "text/html": [
              "<div>\n",
              "<style scoped>\n",
              "    .dataframe tbody tr th:only-of-type {\n",
              "        vertical-align: middle;\n",
              "    }\n",
              "\n",
              "    .dataframe tbody tr th {\n",
              "        vertical-align: top;\n",
              "    }\n",
              "\n",
              "    .dataframe thead th {\n",
              "        text-align: right;\n",
              "    }\n",
              "</style>\n",
              "<table border=\"1\" class=\"dataframe\">\n",
              "  <thead>\n",
              "    <tr style=\"text-align: right;\">\n",
              "      <th></th>\n",
              "      <th>Utility Over time</th>\n",
              "    </tr>\n",
              "    <tr>\n",
              "      <th>t</th>\n",
              "      <th></th>\n",
              "    </tr>\n",
              "  </thead>\n",
              "  <tbody>\n",
              "    <tr>\n",
              "      <th>0</th>\n",
              "      <td>0.9</td>\n",
              "    </tr>\n",
              "    <tr>\n",
              "      <th>1</th>\n",
              "      <td>0.9</td>\n",
              "    </tr>\n",
              "    <tr>\n",
              "      <th>2</th>\n",
              "      <td>0.9</td>\n",
              "    </tr>\n",
              "    <tr>\n",
              "      <th>3</th>\n",
              "      <td>0.9</td>\n",
              "    </tr>\n",
              "    <tr>\n",
              "      <th>4</th>\n",
              "      <td>0.9</td>\n",
              "    </tr>\n",
              "    <tr>\n",
              "      <th>...</th>\n",
              "      <td>...</td>\n",
              "    </tr>\n",
              "    <tr>\n",
              "      <th>996</th>\n",
              "      <td>1.0</td>\n",
              "    </tr>\n",
              "    <tr>\n",
              "      <th>997</th>\n",
              "      <td>1.0</td>\n",
              "    </tr>\n",
              "    <tr>\n",
              "      <th>998</th>\n",
              "      <td>1.0</td>\n",
              "    </tr>\n",
              "    <tr>\n",
              "      <th>999</th>\n",
              "      <td>1.0</td>\n",
              "    </tr>\n",
              "    <tr>\n",
              "      <th>1000</th>\n",
              "      <td>1.0</td>\n",
              "    </tr>\n",
              "  </tbody>\n",
              "</table>\n",
              "<p>1001 rows × 1 columns</p>\n",
              "</div>"
            ],
            "text/plain": [
              "      Utility Over time\n",
              "t                      \n",
              "0                   0.9\n",
              "1                   0.9\n",
              "2                   0.9\n",
              "3                   0.9\n",
              "4                   0.9\n",
              "...                 ...\n",
              "996                 1.0\n",
              "997                 1.0\n",
              "998                 1.0\n",
              "999                 1.0\n",
              "1000                1.0\n",
              "\n",
              "[1001 rows x 1 columns]"
            ]
          },
          "execution_count": 23,
          "metadata": {},
          "output_type": "execute_result"
        }
      ],
      "source": [
        "results.variables.VaccumModel"
      ]
    },
    {
      "cell_type": "code",
      "execution_count": 19,
      "metadata": {
        "colab": {
          "base_uri": "https://localhost:8080/",
          "height": 449
        },
        "id": "SV6FJTGX-wJC",
        "outputId": "fc7263ba-a697-4871-d494-ef5743d15b94"
      },
      "outputs": [
        {
          "data": {
            "image/png": "[encoded data removed]",
            "text/plain": [
              "<Figure size 640x480 with 1 Axes>"
            ]
          },
          "metadata": {},
          "output_type": "display_data"
        }
      ],
      "source": [
        "#Extract data from the Model records (the utility):\n",
        "data = results.variables.VaccumModel\n",
        "#plot this data\n",
        "ax = data.plot()"
      ]
    },
    {
      "cell_type": "code",
      "execution_count": 20,
      "metadata": {
        "colab": {
          "base_uri": "https://localhost:8080/",
          "height": 0
        },
        "id": "C9t4yvvq_Ct-",
        "outputId": "c052b10b-b976-43f5-cee8-eb5f67614ef2"
      },
      "outputs": [
        {
          "name": "stdout",
          "output_type": "stream",
          "text": [
            "             optimal steps\n",
            "obj_id t                  \n",
            "1      1000            421\n"
          ]
        }
      ],
      "source": [
        "#Also print the Optimal Steps from the Agents final records:\n",
        "print(results.variables.VaccumAgent)"
      ]
    }
  ],
  "metadata": {
    "colab": {
      "provenance": []
    },
    "kernelspec": {
      "display_name": "Python 3",
      "name": "python3"
    },
    "language_info": {
      "codemirror_mode": {
        "name": "ipython",
        "version": 3
      },
      "file_extension": ".py",
      "mimetype": "text/x-python",
      "name": "python",
      "nbconvert_exporter": "python",
      "pygments_lexer": "ipython3",
      "version": "3.11.5"
    }
  },
  "nbformat": 4,
  "nbformat_minor": 0
}
