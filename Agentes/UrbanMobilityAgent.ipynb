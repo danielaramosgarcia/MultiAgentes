{
 "cells": [
  {
   "cell_type": "markdown",
   "metadata": {},
   "source": [
    "# Actividad Integradora 1\n",
    "\n",
    " Mobilidad Urbana "
   ]
  },
  {
   "cell_type": "code",
   "execution_count": null,
   "metadata": {},
   "outputs": [],
   "source": [
    "\n",
    "import agentpy as ap\n",
    "import pathfinding as pf \n",
    "import matplotlib.pyplot as plt \n",
    "from owlready2 import *  \n",
    "import itertools\n",
    "import IPython\n",
    "import math"
   ]
  },
  {
   "cell_type": "markdown",
   "metadata": {},
   "source": [
    "# Creacion de Ontologia\n",
    "\n"
   ]
  },
  {
   "cell_type": "code",
   "execution_count": 3,
   "metadata": {},
   "outputs": [],
   "source": [
    "onto = get_ontology(\"file://content/coin_onto.owl\")\n",
    "\n",
    "with onto:\n",
    "    \n",
    "    class Entity(Thing):\n",
    "        pass\n",
    "    \n",
    "    class Hunter(Entity):\n",
    "        pass\n",
    "    \n",
    "    class Coin(Entity):\n",
    "        pass\n",
    "    \n",
    "    class Place(Thing):\n",
    "        pass\n",
    "    \n",
    "    \n",
    "    #Propiedad para describir el lugar de la entidad en el grid\n",
    "    \n",
    "    class is_in_place(ObjectProperty):\n",
    "        domain = [Entity]\n",
    "        range = [Place]\n",
    "        pass\n",
    "    \n",
    "    #Propiedad para especificar la posicion de los lugares\n",
    "    \n",
    "    class at_position(DataProperty, FunctionalProperty):\n",
    "        domain = [Place]\n",
    "        range = [str]\n",
    "        pass\n",
    "    \n",
    "    #Propiedad para decir cuantas monedas puede ver el agente\n",
    "    \n",
    "    class coins_within_reach(ObjectProperty):\n",
    "        domain = [Hunter]\n",
    "        range = [int]\n",
    "        pass"
   ]
  },
  {
   "cell_type": "markdown",
   "metadata": {},
   "source": [
    "# Clase para el agente de Camion levantador de cajas\n",
    "## BDI\n",
    "\n",
    "Agente con racionamiento practico de tipo BDI"
   ]
  },
  {
   "cell_type": "code",
   "execution_count": 4,
   "metadata": {},
   "outputs": [],
   "source": [
    "class HunterAgent(ap.Agent):\n",
    "    \n",
    "    #perception aka see()\n",
    "    def see(self,e):\n",
    "        #aqui viene el rango de vision del levanta carga\n",
    "        #en caso de querer percepcion completa del mundo seria\n",
    "        #seeRange = self.model.p.worldSize[0]\n",
    "        seeRange = 10\n",
    "        #vecimos osea cajas\n",
    "        p = [a for a in e.neighbors(self, distance=seeRange) if a.agentType==1 ]\n",
    "        return p\n",
    "    \n",
    "    #Belife Revision Function BRF\n",
    "    #esta basado en la ontologia\n",
    "    def brf(self, p):\n",
    "        \n",
    "        #destruye los beliefs anteriores\n",
    "        for coin in self.this_hunter.coins_within_reach:\n",
    "            destroy_entity(coin.is_in_place[0])\n",
    "            destroy_entity(coin)\n",
    "        destroy_entity(self.this_hunter.is_in_place[0])\n",
    "        \n",
    "        #inicializa el hunter ontologicamente\n",
    "        currentPos = self.model.coinWorld.positions[self]\n",
    "        self.this_hunter.is_in_place = [Place(at_position = str(currentPos))]\n",
    "        \n",
    "        #inicializa la caja a la vista ontologicamente\n",
    "        for c in p:\n",
    "            theCoin = Coin(is_in_place = [Place()])\n",
    "            theCoin.is_in_place[0].at_position = str(self.model.coinWorld.positions[c])\n",
    "            self.this_hunter.coins_within_reach.append(theCoin)\n",
    "            \n",
    "    #Opt funcition, de aqui se reciben los Desires \n",
    "    def options(self):\n",
    "        \n",
    "        distance = {}\n",
    "        \n",
    "        #por cada caja que el hunter ve\n",
    "        for onto_coin in self.this_hunter.coins_within_reach:\n",
    "            coin_pos = eval(onto_coin.is_in_place[0].at_position)\n",
    "        "
   ]
  },
  {
   "cell_type": "code",
   "execution_count": null,
   "metadata": {},
   "outputs": [],
   "source": []
  }
 ],
 "metadata": {
  "kernelspec": {
   "display_name": "env-opengl",
   "language": "python",
   "name": "python3"
  },
  "language_info": {
   "codemirror_mode": {
    "name": "ipython",
    "version": 3
   },
   "file_extension": ".py",
   "mimetype": "text/x-python",
   "name": "python",
   "nbconvert_exporter": "python",
   "pygments_lexer": "ipython3",
   "version": "3.11.5"
  }
 },
 "nbformat": 4,
 "nbformat_minor": 2
}
